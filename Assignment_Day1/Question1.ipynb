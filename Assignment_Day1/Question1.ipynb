{
 "cells": [
  {
   "cell_type": "code",
   "execution_count": 4,
   "metadata": {},
   "outputs": [
    {
     "name": "stdout",
     "output_type": "stream",
     "text": [
      "Enter your guess word:sacjgj\n",
      "sorry!it's a wrong word\n"
     ]
    }
   ],
   "source": [
    "\n",
    "guess_word = input(\"Enter your guess word:\")\n",
    "guess_word = guess_word.upper()\n",
    "if guess_word == \"RAINBOW\":\n",
    "    print(\"RAINBOW is the correct word\")\n",
    "else:\n",
    "    print(\"sorry!it's a wrong word\")"
   ]
  }
 ],
 "metadata": {
  "kernelspec": {
   "display_name": "Python 3",
   "language": "python",
   "name": "python3"
  },
  "language_info": {
   "codemirror_mode": {
    "name": "ipython",
    "version": 3
   },
   "file_extension": ".py",
   "mimetype": "text/x-python",
   "name": "python",
   "nbconvert_exporter": "python",
   "pygments_lexer": "ipython3",
   "version": "3.7.1"
  }
 },
 "nbformat": 4,
 "nbformat_minor": 2
}
